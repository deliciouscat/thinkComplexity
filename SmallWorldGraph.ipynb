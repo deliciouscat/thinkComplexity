{
 "cells": [
  {
   "cell_type": "code",
   "execution_count": 1,
   "metadata": {},
   "outputs": [],
   "source": [
    "from RandomGraph import *\n",
    "from Graph import Vertex,Edge\n",
    "import GraphWorld"
   ]
  },
  {
   "cell_type": "markdown",
   "metadata": {},
   "source": [
    "클러스터링 계수 C(p) : (A-B-C 모두 연결) / (A-B,B-C 연결) = (삼각형의 수)x3/(순서 고려한 3개의 노드 집합의 조합)\n",
    "\n",
    "평균 경로 길이 L(p) : 무작위의 노드를 두개 골랐을 때 거쳐야 하는 엣지의 개수 평균"
   ]
  },
  {
   "cell_type": "code",
   "execution_count": 2,
   "metadata": {},
   "outputs": [],
   "source": [
    "def avg(seq) :\n",
    "    return 1.0 * sum(seq)/len(seq)\n",
    "\n",
    "class SmallWorldGraph(RandomGraph) :\n",
    "    def __init__(self,vs,k,p) :     # 노드, 노드 당 연결선 수, 교체 확률\n",
    "        RandomGraph.__init__(self,vs)\n",
    "        self.add_regular_edges(k=k)\n",
    "        self.rewire(p=p)\n",
    "        self.assign_edge_lengths()\n",
    "        \n",
    "    def rewire(self, p=0.01) :\n",
    "        es = list(self.edges())\n",
    "        random.shuffle(es)\n",
    "        vs = self.vertices()\n",
    "        \n",
    "        for e in es :\n",
    "            if random.random() > p : continue\n",
    "            v,w = e\n",
    "            self.remove_edge(e)\n",
    "            while True :   # 제거한 연결선을 대신할 연결선\n",
    "                w = random.choice(list(vs))\n",
    "                if v is not w and not self.get_edge(v,w) : break\n",
    "            # 스스로가 아니고 이미 있는 연결선이 아닌 경우를 찾는다.\n",
    "            self.add_edge(Edge(v,w))\n",
    "                \n",
    "        \n",
    "    def assign_edge_lengths(self) :  # 엣지에 길이요소를 할당한다.\n",
    "        for e in self.edges() :\n",
    "            e.length = 1\n",
    "            \n",
    "    def cluster_coef(self) :\n",
    "        C={}\n",
    "        for v in self :\n",
    "            s = self.out_vertices(v)\n",
    "            C[v] = self.cluster(s)\n",
    "            \n",
    "        cvs = C.values()\n",
    "        return avg(cvs)\n",
    "    \n",
    "    def cluster(self, s) :\n",
    "        k = len(s)\n",
    "        if k<2 : return 1.0\n",
    "        possible = k*(k-1.0)\n",
    "        edges = [1 for v in s for w in s if self[v].get(w,False)]\n",
    "        return len(edges) / possible\n",
    "        "
   ]
  },
  {
   "cell_type": "code",
   "execution_count": 3,
   "metadata": {},
   "outputs": [],
   "source": [
    "verts=[]\n",
    "for i in range(8) :\n",
    "    verts.append( Vertex(str(i)) )\n",
    "\n",
    "swg=SmallWorldGraph(verts,4,0.15)"
   ]
  },
  {
   "cell_type": "code",
   "execution_count": 4,
   "metadata": {},
   "outputs": [
    {
     "data": {
      "text/plain": [
       "{Vertex('0'): {Vertex('1'): Edge(Vertex('0'), Vertex('1')),\n",
       "  Vertex('2'): Edge(Vertex('0'), Vertex('2')),\n",
       "  Vertex('6'): Edge(Vertex('6'), Vertex('0')),\n",
       "  Vertex('7'): Edge(Vertex('7'), Vertex('0')),\n",
       "  Vertex('4'): Edge(Vertex('4'), Vertex('0'))},\n",
       " Vertex('1'): {Vertex('0'): Edge(Vertex('0'), Vertex('1')),\n",
       "  Vertex('2'): Edge(Vertex('1'), Vertex('2')),\n",
       "  Vertex('3'): Edge(Vertex('1'), Vertex('3')),\n",
       "  Vertex('7'): Edge(Vertex('7'), Vertex('1')),\n",
       "  Vertex('4'): Edge(Vertex('4'), Vertex('1'))},\n",
       " Vertex('2'): {Vertex('0'): Edge(Vertex('0'), Vertex('2')),\n",
       "  Vertex('1'): Edge(Vertex('1'), Vertex('2')),\n",
       "  Vertex('3'): Edge(Vertex('2'), Vertex('3')),\n",
       "  Vertex('4'): Edge(Vertex('2'), Vertex('4'))},\n",
       " Vertex('3'): {Vertex('1'): Edge(Vertex('1'), Vertex('3')),\n",
       "  Vertex('2'): Edge(Vertex('2'), Vertex('3')),\n",
       "  Vertex('4'): Edge(Vertex('3'), Vertex('4')),\n",
       "  Vertex('5'): Edge(Vertex('3'), Vertex('5')),\n",
       "  Vertex('6'): Edge(Vertex('6'), Vertex('3'))},\n",
       " Vertex('4'): {Vertex('2'): Edge(Vertex('2'), Vertex('4')),\n",
       "  Vertex('3'): Edge(Vertex('3'), Vertex('4')),\n",
       "  Vertex('1'): Edge(Vertex('4'), Vertex('1')),\n",
       "  Vertex('0'): Edge(Vertex('4'), Vertex('0'))},\n",
       " Vertex('5'): {Vertex('3'): Edge(Vertex('3'), Vertex('5')),\n",
       "  Vertex('6'): Edge(Vertex('5'), Vertex('6')),\n",
       "  Vertex('7'): Edge(Vertex('5'), Vertex('7'))},\n",
       " Vertex('6'): {Vertex('5'): Edge(Vertex('5'), Vertex('6')),\n",
       "  Vertex('0'): Edge(Vertex('6'), Vertex('0')),\n",
       "  Vertex('3'): Edge(Vertex('6'), Vertex('3'))},\n",
       " Vertex('7'): {Vertex('5'): Edge(Vertex('5'), Vertex('7')),\n",
       "  Vertex('0'): Edge(Vertex('7'), Vertex('0')),\n",
       "  Vertex('1'): Edge(Vertex('7'), Vertex('1'))}}"
      ]
     },
     "execution_count": 4,
     "metadata": {},
     "output_type": "execute_result"
    }
   ],
   "source": [
    "swg"
   ]
  },
  {
   "cell_type": "code",
   "execution_count": 5,
   "metadata": {},
   "outputs": [],
   "source": [
    "gworld=GraphWorld.GraphWorld()\n",
    "layout=GraphWorld.Layout(swg)"
   ]
  },
  {
   "cell_type": "code",
   "execution_count": 6,
   "metadata": {},
   "outputs": [],
   "source": [
    "gworld.show_graph(swg,layout)"
   ]
  },
  {
   "cell_type": "code",
   "execution_count": 12,
   "metadata": {},
   "outputs": [
    {
     "data": {
      "text/plain": [
       "GraphWorld.GraphWorld"
      ]
     },
     "execution_count": 12,
     "metadata": {},
     "output_type": "execute_result"
    }
   ],
   "source": [
    "type(gworld)"
   ]
  },
  {
   "cell_type": "code",
   "execution_count": 13,
   "metadata": {},
   "outputs": [
    {
     "ename": "AttributeError",
     "evalue": "'dict' object has no attribute 'pos'",
     "output_type": "error",
     "traceback": [
      "\u001b[0;31m---------------------------------------------------------------------------\u001b[0m",
      "\u001b[0;31mAttributeError\u001b[0m                            Traceback (most recent call last)",
      "\u001b[0;32m<ipython-input-13-0d0e2dc935ea>\u001b[0m in \u001b[0;36m<module>\u001b[0;34m\u001b[0m\n\u001b[0;32m----> 1\u001b[0;31m \u001b[0mswg\u001b[0m\u001b[0;34m[\u001b[0m\u001b[0mVertex\u001b[0m\u001b[0;34m(\u001b[0m\u001b[0;34m\"1\"\u001b[0m\u001b[0;34m)\u001b[0m\u001b[0;34m]\u001b[0m\u001b[0;34m.\u001b[0m\u001b[0mpos\u001b[0m\u001b[0;34m(\u001b[0m\u001b[0;34m)\u001b[0m\u001b[0;34m\u001b[0m\u001b[0;34m\u001b[0m\u001b[0m\n\u001b[0m",
      "\u001b[0;31mAttributeError\u001b[0m: 'dict' object has no attribute 'pos'"
     ]
    }
   ],
   "source": []
  },
  {
   "cell_type": "code",
   "execution_count": null,
   "metadata": {},
   "outputs": [],
   "source": []
  }
 ],
 "metadata": {
  "kernelspec": {
   "display_name": "Python 3",
   "language": "python",
   "name": "python3"
  },
  "language_info": {
   "codemirror_mode": {
    "name": "ipython",
    "version": 3
   },
   "file_extension": ".py",
   "mimetype": "text/x-python",
   "name": "python",
   "nbconvert_exporter": "python",
   "pygments_lexer": "ipython3",
   "version": "3.8.5"
  }
 },
 "nbformat": 4,
 "nbformat_minor": 4
}
